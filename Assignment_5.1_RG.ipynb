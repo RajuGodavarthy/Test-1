{
 "cells": [
  {
   "cell_type": "markdown",
   "metadata": {},
   "source": [
    "### Will a Customer Accept the Coupon?\n",
    "\n",
    "**Context**\n",
    "\n",
    "Imagine driving through town and a coupon is delivered to your cell phone for a restaraunt near where you are driving. Would you accept that coupon and take a short detour to the restaraunt? Would you accept the coupon but use it on a sunbsequent trip? Would you ignore the coupon entirely? What if the coupon was for a bar instead of a restaraunt? What about a coffee house? Would you accept a bar coupon with a minor passenger in the car? What about if it was just you and your partner in the car? Would weather impact the rate of acceptance? What about the time of day?\n",
    "\n",
    "Obviously, proximity to the business is a factor on whether the coupon is delivered to the driver or not, but what are the factors that determine whether a driver accepts the coupon once it is delivered to them? How would you determine whether a driver is likely to accept a coupon?\n",
    "\n",
    "**Overview**\n",
    "\n",
    "The goal of this project is to use what you know about visualizations and probability distributions to distinguish between customers who accepted a driving coupon versus those that did not.\n",
    "\n",
    "**Data**\n",
    "\n",
    "This data comes to us from the UCI Machine Learning repository and was collected via a survey on Amazon Mechanical Turk. The survey describes different driving scenarios including the destination, current time, weather, passenger, etc., and then ask the person whether he will accept the coupon if he is the driver. Answers that the user will drive there ‘right away’ or ‘later before the coupon expires’ are labeled as ‘Y = 1’ and answers ‘no, I do not want the coupon’ are labeled as ‘Y = 0’.  There are five different types of coupons -- less expensive restaurants (under \\\\$20), coffee houses, carry out & take away, bar, and more expensive restaurants (\\\\$20 - \\\\$50). "
   ]
  },
  {
   "cell_type": "markdown",
   "metadata": {},
   "source": [
    "**Deliverables**\n",
    "\n",
    "Your final product should be a brief report that highlights the differences between customers who did and did not accept the coupons.  To explore the data you will utilize your knowledge of plotting, statistical summaries, and visualization using Python. You will publish your findings in a public facing github repository as your first portfolio piece. \n",
    "\n",
    "\n",
    "\n"
   ]
  },
  {
   "cell_type": "markdown",
   "metadata": {},
   "source": [
    "### Data Description\n",
    "Keep in mind that these values mentioned below are average values.\n",
    "\n",
    "The attributes of this data set include:\n",
    "1. User attributes\n",
    "    -  Gender: male, female\n",
    "    -  Age: below 21, 21 to 25, 26 to 30, etc.\n",
    "    -  Marital Status: single, married partner, unmarried partner, or widowed\n",
    "    -  Number of children: 0, 1, or more than 1\n",
    "    -  Education: high school, bachelors degree, associates degree, or graduate degree\n",
    "    -  Occupation: architecture & engineering, business & financial, etc.\n",
    "    -  Annual income: less than \\\\$12500, \\\\$12500 - \\\\$24999, \\\\$25000 - \\\\$37499, etc.\n",
    "    -  Number of times that he/she goes to a bar: 0, less than 1, 1 to 3, 4 to 8 or greater than 8\n",
    "    -  Number of times that he/she buys takeaway food: 0, less than 1, 1 to 3, 4 to 8 or greater\n",
    "    than 8\n",
    "    -  Number of times that he/she goes to a coffee house: 0, less than 1, 1 to 3, 4 to 8 or\n",
    "    greater than 8\n",
    "    -  Number of times that he/she eats at a restaurant with average expense less than \\\\$20 per\n",
    "    person: 0, less than 1, 1 to 3, 4 to 8 or greater than 8\n",
    "    -  Number of times that he/she goes to a bar: 0, less than 1, 1 to 3, 4 to 8 or greater than 8\n",
    "    \n",
    "\n",
    "2. Contextual attributes\n",
    "    - Driving destination: home, work, or no urgent destination\n",
    "    - Location of user, coupon and destination: we provide a map to show the geographical\n",
    "    location of the user, destination, and the venue, and we mark the distance between each\n",
    "    two places with time of driving. The user can see whether the venue is in the same\n",
    "    direction as the destination.\n",
    "    - Weather: sunny, rainy, or snowy\n",
    "    - Temperature: 30F, 55F, or 80F\n",
    "    - Time: 10AM, 2PM, or 6PM\n",
    "    - Passenger: alone, partner, kid(s), or friend(s)\n",
    "\n",
    "\n",
    "3. Coupon attributes\n",
    "    - time before it expires: 2 hours or one day"
   ]
  },
  {
   "cell_type": "code",
   "execution_count": 2,
   "metadata": {},
   "outputs": [],
   "source": [
    "## Importing the libraries\n",
    "import matplotlib.pyplot as plt\n",
    "import seaborn as sns\n",
    "import pandas as pd\n",
    "import numpy as np"
   ]
  },
  {
   "cell_type": "markdown",
   "metadata": {},
   "source": [
    "### Problems\n",
    "\n",
    "Use the prompts below to get started with your data analysis.  \n",
    "\n",
    "1. Read in the `coupons.csv` file.\n",
    "\n",
    "\n"
   ]
  },
  {
   "cell_type": "code",
   "execution_count": 3,
   "metadata": {},
   "outputs": [],
   "source": [
    "## Load data from csv file\n",
    "data = pd.read_csv('data/coupons.csv')"
   ]
  },
  {
   "cell_type": "code",
   "execution_count": 4,
   "metadata": {},
   "outputs": [
    {
     "data": {
      "text/html": [
       "<div>\n",
       "<style scoped>\n",
       "    .dataframe tbody tr th:only-of-type {\n",
       "        vertical-align: middle;\n",
       "    }\n",
       "\n",
       "    .dataframe tbody tr th {\n",
       "        vertical-align: top;\n",
       "    }\n",
       "\n",
       "    .dataframe thead th {\n",
       "        text-align: right;\n",
       "    }\n",
       "</style>\n",
       "<table border=\"1\" class=\"dataframe\">\n",
       "  <thead>\n",
       "    <tr style=\"text-align: right;\">\n",
       "      <th></th>\n",
       "      <th>destination</th>\n",
       "      <th>passanger</th>\n",
       "      <th>weather</th>\n",
       "      <th>temperature</th>\n",
       "      <th>time</th>\n",
       "      <th>coupon</th>\n",
       "      <th>expiration</th>\n",
       "      <th>gender</th>\n",
       "      <th>age</th>\n",
       "      <th>maritalStatus</th>\n",
       "      <th>...</th>\n",
       "      <th>CoffeeHouse</th>\n",
       "      <th>CarryAway</th>\n",
       "      <th>RestaurantLessThan20</th>\n",
       "      <th>Restaurant20To50</th>\n",
       "      <th>toCoupon_GEQ5min</th>\n",
       "      <th>toCoupon_GEQ15min</th>\n",
       "      <th>toCoupon_GEQ25min</th>\n",
       "      <th>direction_same</th>\n",
       "      <th>direction_opp</th>\n",
       "      <th>Y</th>\n",
       "    </tr>\n",
       "  </thead>\n",
       "  <tbody>\n",
       "    <tr>\n",
       "      <th>0</th>\n",
       "      <td>No Urgent Place</td>\n",
       "      <td>Alone</td>\n",
       "      <td>Sunny</td>\n",
       "      <td>55</td>\n",
       "      <td>2PM</td>\n",
       "      <td>Restaurant(&lt;20)</td>\n",
       "      <td>1d</td>\n",
       "      <td>Female</td>\n",
       "      <td>21</td>\n",
       "      <td>Unmarried partner</td>\n",
       "      <td>...</td>\n",
       "      <td>never</td>\n",
       "      <td>NaN</td>\n",
       "      <td>4~8</td>\n",
       "      <td>1~3</td>\n",
       "      <td>1</td>\n",
       "      <td>0</td>\n",
       "      <td>0</td>\n",
       "      <td>0</td>\n",
       "      <td>1</td>\n",
       "      <td>1</td>\n",
       "    </tr>\n",
       "    <tr>\n",
       "      <th>1</th>\n",
       "      <td>No Urgent Place</td>\n",
       "      <td>Friend(s)</td>\n",
       "      <td>Sunny</td>\n",
       "      <td>80</td>\n",
       "      <td>10AM</td>\n",
       "      <td>Coffee House</td>\n",
       "      <td>2h</td>\n",
       "      <td>Female</td>\n",
       "      <td>21</td>\n",
       "      <td>Unmarried partner</td>\n",
       "      <td>...</td>\n",
       "      <td>never</td>\n",
       "      <td>NaN</td>\n",
       "      <td>4~8</td>\n",
       "      <td>1~3</td>\n",
       "      <td>1</td>\n",
       "      <td>0</td>\n",
       "      <td>0</td>\n",
       "      <td>0</td>\n",
       "      <td>1</td>\n",
       "      <td>0</td>\n",
       "    </tr>\n",
       "    <tr>\n",
       "      <th>2</th>\n",
       "      <td>No Urgent Place</td>\n",
       "      <td>Friend(s)</td>\n",
       "      <td>Sunny</td>\n",
       "      <td>80</td>\n",
       "      <td>10AM</td>\n",
       "      <td>Carry out &amp; Take away</td>\n",
       "      <td>2h</td>\n",
       "      <td>Female</td>\n",
       "      <td>21</td>\n",
       "      <td>Unmarried partner</td>\n",
       "      <td>...</td>\n",
       "      <td>never</td>\n",
       "      <td>NaN</td>\n",
       "      <td>4~8</td>\n",
       "      <td>1~3</td>\n",
       "      <td>1</td>\n",
       "      <td>1</td>\n",
       "      <td>0</td>\n",
       "      <td>0</td>\n",
       "      <td>1</td>\n",
       "      <td>1</td>\n",
       "    </tr>\n",
       "    <tr>\n",
       "      <th>3</th>\n",
       "      <td>No Urgent Place</td>\n",
       "      <td>Friend(s)</td>\n",
       "      <td>Sunny</td>\n",
       "      <td>80</td>\n",
       "      <td>2PM</td>\n",
       "      <td>Coffee House</td>\n",
       "      <td>2h</td>\n",
       "      <td>Female</td>\n",
       "      <td>21</td>\n",
       "      <td>Unmarried partner</td>\n",
       "      <td>...</td>\n",
       "      <td>never</td>\n",
       "      <td>NaN</td>\n",
       "      <td>4~8</td>\n",
       "      <td>1~3</td>\n",
       "      <td>1</td>\n",
       "      <td>1</td>\n",
       "      <td>0</td>\n",
       "      <td>0</td>\n",
       "      <td>1</td>\n",
       "      <td>0</td>\n",
       "    </tr>\n",
       "    <tr>\n",
       "      <th>4</th>\n",
       "      <td>No Urgent Place</td>\n",
       "      <td>Friend(s)</td>\n",
       "      <td>Sunny</td>\n",
       "      <td>80</td>\n",
       "      <td>2PM</td>\n",
       "      <td>Coffee House</td>\n",
       "      <td>1d</td>\n",
       "      <td>Female</td>\n",
       "      <td>21</td>\n",
       "      <td>Unmarried partner</td>\n",
       "      <td>...</td>\n",
       "      <td>never</td>\n",
       "      <td>NaN</td>\n",
       "      <td>4~8</td>\n",
       "      <td>1~3</td>\n",
       "      <td>1</td>\n",
       "      <td>1</td>\n",
       "      <td>0</td>\n",
       "      <td>0</td>\n",
       "      <td>1</td>\n",
       "      <td>0</td>\n",
       "    </tr>\n",
       "  </tbody>\n",
       "</table>\n",
       "<p>5 rows × 26 columns</p>\n",
       "</div>"
      ],
      "text/plain": [
       "       destination  passanger weather  temperature  time  \\\n",
       "0  No Urgent Place      Alone   Sunny           55   2PM   \n",
       "1  No Urgent Place  Friend(s)   Sunny           80  10AM   \n",
       "2  No Urgent Place  Friend(s)   Sunny           80  10AM   \n",
       "3  No Urgent Place  Friend(s)   Sunny           80   2PM   \n",
       "4  No Urgent Place  Friend(s)   Sunny           80   2PM   \n",
       "\n",
       "                  coupon expiration  gender age      maritalStatus  ...  \\\n",
       "0        Restaurant(<20)         1d  Female  21  Unmarried partner  ...   \n",
       "1           Coffee House         2h  Female  21  Unmarried partner  ...   \n",
       "2  Carry out & Take away         2h  Female  21  Unmarried partner  ...   \n",
       "3           Coffee House         2h  Female  21  Unmarried partner  ...   \n",
       "4           Coffee House         1d  Female  21  Unmarried partner  ...   \n",
       "\n",
       "   CoffeeHouse CarryAway RestaurantLessThan20 Restaurant20To50  \\\n",
       "0        never       NaN                  4~8              1~3   \n",
       "1        never       NaN                  4~8              1~3   \n",
       "2        never       NaN                  4~8              1~3   \n",
       "3        never       NaN                  4~8              1~3   \n",
       "4        never       NaN                  4~8              1~3   \n",
       "\n",
       "  toCoupon_GEQ5min toCoupon_GEQ15min toCoupon_GEQ25min direction_same  \\\n",
       "0                1                 0                 0              0   \n",
       "1                1                 0                 0              0   \n",
       "2                1                 1                 0              0   \n",
       "3                1                 1                 0              0   \n",
       "4                1                 1                 0              0   \n",
       "\n",
       "  direction_opp  Y  \n",
       "0             1  1  \n",
       "1             1  0  \n",
       "2             1  1  \n",
       "3             1  0  \n",
       "4             1  0  \n",
       "\n",
       "[5 rows x 26 columns]"
      ]
     },
     "execution_count": 4,
     "metadata": {},
     "output_type": "execute_result"
    }
   ],
   "source": [
    "## verifying the data loaded\n",
    "data.head()"
   ]
  },
  {
   "cell_type": "markdown",
   "metadata": {},
   "source": [
    "Notes: Coupons data loaded into the dataframe from the csv file\n"
   ]
  },
  {
   "cell_type": "markdown",
   "metadata": {},
   "source": [
    "2. Investigate the dataset for missing or problematic data."
   ]
  },
  {
   "cell_type": "code",
   "execution_count": 5,
   "metadata": {},
   "outputs": [
    {
     "name": "stdout",
     "output_type": "stream",
     "text": [
      "<class 'pandas.core.frame.DataFrame'>\n",
      "RangeIndex: 12684 entries, 0 to 12683\n",
      "Data columns (total 26 columns):\n",
      " #   Column                Non-Null Count  Dtype \n",
      "---  ------                --------------  ----- \n",
      " 0   destination           12684 non-null  object\n",
      " 1   passanger             12684 non-null  object\n",
      " 2   weather               12684 non-null  object\n",
      " 3   temperature           12684 non-null  int64 \n",
      " 4   time                  12684 non-null  object\n",
      " 5   coupon                12684 non-null  object\n",
      " 6   expiration            12684 non-null  object\n",
      " 7   gender                12684 non-null  object\n",
      " 8   age                   12684 non-null  object\n",
      " 9   maritalStatus         12684 non-null  object\n",
      " 10  has_children          12684 non-null  int64 \n",
      " 11  education             12684 non-null  object\n",
      " 12  occupation            12684 non-null  object\n",
      " 13  income                12684 non-null  object\n",
      " 14  car                   108 non-null    object\n",
      " 15  Bar                   12577 non-null  object\n",
      " 16  CoffeeHouse           12467 non-null  object\n",
      " 17  CarryAway             12533 non-null  object\n",
      " 18  RestaurantLessThan20  12554 non-null  object\n",
      " 19  Restaurant20To50      12495 non-null  object\n",
      " 20  toCoupon_GEQ5min      12684 non-null  int64 \n",
      " 21  toCoupon_GEQ15min     12684 non-null  int64 \n",
      " 22  toCoupon_GEQ25min     12684 non-null  int64 \n",
      " 23  direction_same        12684 non-null  int64 \n",
      " 24  direction_opp         12684 non-null  int64 \n",
      " 25  Y                     12684 non-null  int64 \n",
      "dtypes: int64(8), object(18)\n",
      "memory usage: 2.5+ MB\n"
     ]
    }
   ],
   "source": [
    "## Get information about the dataframe\n",
    "data.info()"
   ]
  },
  {
   "cell_type": "code",
   "execution_count": 6,
   "metadata": {},
   "outputs": [
    {
     "data": {
      "text/plain": [
       "Index(['destination', 'passanger', 'weather', 'temperature', 'time', 'coupon',\n",
       "       'expiration', 'gender', 'age', 'maritalStatus', 'has_children',\n",
       "       'education', 'occupation', 'income', 'car', 'Bar', 'CoffeeHouse',\n",
       "       'CarryAway', 'RestaurantLessThan20', 'Restaurant20To50',\n",
       "       'toCoupon_GEQ5min', 'toCoupon_GEQ15min', 'toCoupon_GEQ25min',\n",
       "       'direction_same', 'direction_opp', 'Y'],\n",
       "      dtype='object')"
      ]
     },
     "execution_count": 6,
     "metadata": {},
     "output_type": "execute_result"
    }
   ],
   "source": [
    "## verifying columns of the dataframe\n",
    "data.columns\n"
   ]
  },
  {
   "cell_type": "code",
   "execution_count": 7,
   "metadata": {},
   "outputs": [
    {
     "data": {
      "text/html": [
       "<div>\n",
       "<style scoped>\n",
       "    .dataframe tbody tr th:only-of-type {\n",
       "        vertical-align: middle;\n",
       "    }\n",
       "\n",
       "    .dataframe tbody tr th {\n",
       "        vertical-align: top;\n",
       "    }\n",
       "\n",
       "    .dataframe thead th {\n",
       "        text-align: right;\n",
       "    }\n",
       "</style>\n",
       "<table border=\"1\" class=\"dataframe\">\n",
       "  <thead>\n",
       "    <tr style=\"text-align: right;\">\n",
       "      <th></th>\n",
       "      <th>temperature</th>\n",
       "      <th>has_children</th>\n",
       "      <th>toCoupon_GEQ5min</th>\n",
       "      <th>toCoupon_GEQ15min</th>\n",
       "      <th>toCoupon_GEQ25min</th>\n",
       "      <th>direction_same</th>\n",
       "      <th>direction_opp</th>\n",
       "      <th>Y</th>\n",
       "    </tr>\n",
       "  </thead>\n",
       "  <tbody>\n",
       "    <tr>\n",
       "      <th>count</th>\n",
       "      <td>12684.000000</td>\n",
       "      <td>12684.000000</td>\n",
       "      <td>12684.0</td>\n",
       "      <td>12684.000000</td>\n",
       "      <td>12684.000000</td>\n",
       "      <td>12684.000000</td>\n",
       "      <td>12684.000000</td>\n",
       "      <td>12684.000000</td>\n",
       "    </tr>\n",
       "    <tr>\n",
       "      <th>mean</th>\n",
       "      <td>63.301798</td>\n",
       "      <td>0.414144</td>\n",
       "      <td>1.0</td>\n",
       "      <td>0.561495</td>\n",
       "      <td>0.119126</td>\n",
       "      <td>0.214759</td>\n",
       "      <td>0.785241</td>\n",
       "      <td>0.568433</td>\n",
       "    </tr>\n",
       "    <tr>\n",
       "      <th>std</th>\n",
       "      <td>19.154486</td>\n",
       "      <td>0.492593</td>\n",
       "      <td>0.0</td>\n",
       "      <td>0.496224</td>\n",
       "      <td>0.323950</td>\n",
       "      <td>0.410671</td>\n",
       "      <td>0.410671</td>\n",
       "      <td>0.495314</td>\n",
       "    </tr>\n",
       "    <tr>\n",
       "      <th>min</th>\n",
       "      <td>30.000000</td>\n",
       "      <td>0.000000</td>\n",
       "      <td>1.0</td>\n",
       "      <td>0.000000</td>\n",
       "      <td>0.000000</td>\n",
       "      <td>0.000000</td>\n",
       "      <td>0.000000</td>\n",
       "      <td>0.000000</td>\n",
       "    </tr>\n",
       "    <tr>\n",
       "      <th>25%</th>\n",
       "      <td>55.000000</td>\n",
       "      <td>0.000000</td>\n",
       "      <td>1.0</td>\n",
       "      <td>0.000000</td>\n",
       "      <td>0.000000</td>\n",
       "      <td>0.000000</td>\n",
       "      <td>1.000000</td>\n",
       "      <td>0.000000</td>\n",
       "    </tr>\n",
       "    <tr>\n",
       "      <th>50%</th>\n",
       "      <td>80.000000</td>\n",
       "      <td>0.000000</td>\n",
       "      <td>1.0</td>\n",
       "      <td>1.000000</td>\n",
       "      <td>0.000000</td>\n",
       "      <td>0.000000</td>\n",
       "      <td>1.000000</td>\n",
       "      <td>1.000000</td>\n",
       "    </tr>\n",
       "    <tr>\n",
       "      <th>75%</th>\n",
       "      <td>80.000000</td>\n",
       "      <td>1.000000</td>\n",
       "      <td>1.0</td>\n",
       "      <td>1.000000</td>\n",
       "      <td>0.000000</td>\n",
       "      <td>0.000000</td>\n",
       "      <td>1.000000</td>\n",
       "      <td>1.000000</td>\n",
       "    </tr>\n",
       "    <tr>\n",
       "      <th>max</th>\n",
       "      <td>80.000000</td>\n",
       "      <td>1.000000</td>\n",
       "      <td>1.0</td>\n",
       "      <td>1.000000</td>\n",
       "      <td>1.000000</td>\n",
       "      <td>1.000000</td>\n",
       "      <td>1.000000</td>\n",
       "      <td>1.000000</td>\n",
       "    </tr>\n",
       "  </tbody>\n",
       "</table>\n",
       "</div>"
      ],
      "text/plain": [
       "        temperature  has_children  toCoupon_GEQ5min  toCoupon_GEQ15min  \\\n",
       "count  12684.000000  12684.000000           12684.0       12684.000000   \n",
       "mean      63.301798      0.414144               1.0           0.561495   \n",
       "std       19.154486      0.492593               0.0           0.496224   \n",
       "min       30.000000      0.000000               1.0           0.000000   \n",
       "25%       55.000000      0.000000               1.0           0.000000   \n",
       "50%       80.000000      0.000000               1.0           1.000000   \n",
       "75%       80.000000      1.000000               1.0           1.000000   \n",
       "max       80.000000      1.000000               1.0           1.000000   \n",
       "\n",
       "       toCoupon_GEQ25min  direction_same  direction_opp             Y  \n",
       "count       12684.000000    12684.000000   12684.000000  12684.000000  \n",
       "mean            0.119126        0.214759       0.785241      0.568433  \n",
       "std             0.323950        0.410671       0.410671      0.495314  \n",
       "min             0.000000        0.000000       0.000000      0.000000  \n",
       "25%             0.000000        0.000000       1.000000      0.000000  \n",
       "50%             0.000000        0.000000       1.000000      1.000000  \n",
       "75%             0.000000        0.000000       1.000000      1.000000  \n",
       "max             1.000000        1.000000       1.000000      1.000000  "
      ]
     },
     "execution_count": 7,
     "metadata": {},
     "output_type": "execute_result"
    }
   ],
   "source": [
    "## Statistical Summary\n",
    "data.describe()"
   ]
  },
  {
   "cell_type": "markdown",
   "metadata": {},
   "source": [
    "**Notes:** Information gathered about the variables in the dataframe.\n"
   ]
  },
  {
   "cell_type": "markdown",
   "metadata": {},
   "source": [
    "3. Decide what to do about your missing data -- drop, replace, other..."
   ]
  },
  {
   "cell_type": "code",
   "execution_count": 8,
   "metadata": {},
   "outputs": [
    {
     "data": {
      "text/plain": [
       "destination                 0\n",
       "passanger                   0\n",
       "weather                     0\n",
       "temperature                 0\n",
       "time                        0\n",
       "coupon                      0\n",
       "expiration                  0\n",
       "gender                      0\n",
       "age                         0\n",
       "maritalStatus               0\n",
       "has_children                0\n",
       "education                   0\n",
       "occupation                  0\n",
       "income                      0\n",
       "car                     12576\n",
       "Bar                       107\n",
       "CoffeeHouse               217\n",
       "CarryAway                 151\n",
       "RestaurantLessThan20      130\n",
       "Restaurant20To50          189\n",
       "toCoupon_GEQ5min            0\n",
       "toCoupon_GEQ15min           0\n",
       "toCoupon_GEQ25min           0\n",
       "direction_same              0\n",
       "direction_opp               0\n",
       "Y                           0\n",
       "dtype: int64"
      ]
     },
     "execution_count": 8,
     "metadata": {},
     "output_type": "execute_result"
    }
   ],
   "source": [
    "#Search for any missing variable values\n",
    "data.isnull().sum()"
   ]
  },
  {
   "cell_type": "code",
   "execution_count": 9,
   "metadata": {},
   "outputs": [],
   "source": [
    "## Data Cleansing process\n",
    "## Ignored the missing values in the column \"car\", as it does not have influence on decisive or dependent variable\n",
    "## Droping the missing data in the remaing columns, as volumne of the missing data is low (~4%) and we have good chunk of data for the analysis\n",
    "## list to drop missing values\n",
    "columns_to_drop = ['Bar', 'CoffeeHouse', 'CarryAway', 'RestaurantLessThan20', 'Restaurant20To50']\n",
    "## droping the missing values\n",
    "data.dropna(subset=columns_to_drop, inplace=True)"
   ]
  },
  {
   "cell_type": "code",
   "execution_count": 10,
   "metadata": {},
   "outputs": [
    {
     "data": {
      "text/plain": [
       "destination                 0\n",
       "passanger                   0\n",
       "weather                     0\n",
       "temperature                 0\n",
       "time                        0\n",
       "coupon                      0\n",
       "expiration                  0\n",
       "gender                      0\n",
       "age                         0\n",
       "maritalStatus               0\n",
       "has_children                0\n",
       "education                   0\n",
       "occupation                  0\n",
       "income                      0\n",
       "car                     11971\n",
       "Bar                         0\n",
       "CoffeeHouse                 0\n",
       "CarryAway                   0\n",
       "RestaurantLessThan20        0\n",
       "Restaurant20To50            0\n",
       "toCoupon_GEQ5min            0\n",
       "toCoupon_GEQ15min           0\n",
       "toCoupon_GEQ25min           0\n",
       "direction_same              0\n",
       "direction_opp               0\n",
       "Y                           0\n",
       "dtype: int64"
      ]
     },
     "execution_count": 10,
     "metadata": {},
     "output_type": "execute_result"
    }
   ],
   "source": [
    "# Checking the data after droping the missed values\n",
    "data.isnull().sum()"
   ]
  },
  {
   "cell_type": "code",
   "execution_count": 11,
   "metadata": {},
   "outputs": [
    {
     "data": {
      "text/plain": [
       "Index(['destination', 'passanger', 'weather', 'temperature', 'time', 'coupon',\n",
       "       'expiration', 'gender', 'age', 'maritalStatus', 'has_children',\n",
       "       'education', 'occupation', 'income', 'car', 'Bar', 'CoffeeHouse',\n",
       "       'CarryAway', 'RestaurantLessThan20', 'Restaurant20To50',\n",
       "       'toCoupon_GEQ5min', 'toCoupon_GEQ15min', 'toCoupon_GEQ25min',\n",
       "       'direction_same', 'direction_opp', 'coupon_accepted'],\n",
       "      dtype='object')"
      ]
     },
     "execution_count": 11,
     "metadata": {},
     "output_type": "execute_result"
    }
   ],
   "source": [
    "## Rename column \"Y\" to a meainful lable coupon_accepted \n",
    "data = data.rename(columns = {\"Y\" : \"coupon_accepted\"})\n",
    "## verify the column names after renaming\n",
    "data.columns"
   ]
  },
  {
   "cell_type": "code",
   "execution_count": 12,
   "metadata": {},
   "outputs": [
    {
     "data": {
      "text/plain": [
       "destination                 0\n",
       "passanger                   0\n",
       "weather                     0\n",
       "temperature                 0\n",
       "time                        0\n",
       "coupon                      0\n",
       "expiration                  0\n",
       "gender                      0\n",
       "age                         0\n",
       "maritalStatus               0\n",
       "has_children                0\n",
       "education                   0\n",
       "occupation                  0\n",
       "income                      0\n",
       "car                     11971\n",
       "Bar                         0\n",
       "CoffeeHouse                 0\n",
       "CarryAway                   0\n",
       "RestaurantLessThan20        0\n",
       "Restaurant20To50            0\n",
       "toCoupon_GEQ5min            0\n",
       "toCoupon_GEQ15min           0\n",
       "toCoupon_GEQ25min           0\n",
       "direction_same              0\n",
       "direction_opp               0\n",
       "coupon_accepted             0\n",
       "dtype: int64"
      ]
     },
     "execution_count": 12,
     "metadata": {},
     "output_type": "execute_result"
    }
   ],
   "source": [
    "#Search for any missing values after replacing the missed values\n",
    "data.isnull().sum()"
   ]
  },
  {
   "cell_type": "markdown",
   "metadata": {},
   "source": [
    "**Notes:***\n",
    "Data Cleansing is completed for analysis\n",
    "Most of the values in the variable \"car\" were missing. Ignored missing values in \"car\" variable, as they don't significantly impact the dependent        variable or the outcome of our analysis, hence leaving the values in the car variable as it is.\n",
    "Dropped the missing values in the remaing variables, as volumne of the missing data is low (~4%) and we have a sufficient amount of data                 remaining for analysis after removal\n",
    "Dropped the missing data from the variables such as Bar, CoffeeHouse, CarryAway, RestaurantLessThan20, and Restaurant20To50\n",
    "Cleansing data in this way, will likely improve the accuracy and robustness of our analysis, allowing us to draw more reliable                           conclusions from the available data.  "
   ]
  },
  {
   "cell_type": "markdown",
   "metadata": {},
   "source": [
    "4. What proportion of the total observations chose to accept the coupon? \n",
    "\n"
   ]
  },
  {
   "cell_type": "code",
   "execution_count": 13,
   "metadata": {},
   "outputs": [
    {
     "name": "stdout",
     "output_type": "stream",
     "text": [
      "Proportion of the total observations that accepted the coupon: 0.5693352098683666\n"
     ]
    }
   ],
   "source": [
    "## calculating the proporation of the total observations that accepted the coupon\n",
    "prop_accepted = sum(map(lambda x: x == 1, data['coupon_accepted']))/len(data['coupon_accepted'])\n",
    "\n",
    "## print\n",
    "print(\"Proportion of the total observations that accepted the coupon:\",prop_accepted)"
   ]
  },
  {
   "cell_type": "markdown",
   "metadata": {},
   "source": [
    "***Findings:*** \n",
    "The overall proportion of coupon acceptance is higher than the proportion of rejections indicates that more people accepted the coupons than             those who did not.\n",
    "This suggests that the coupons, whether they are bar coupons, car coupons, or any other type, are generally effective  n entici g individuals to accept they\n",
    "\n",
    "\r\n",
    "Overall, the higher proportion of coupon acceptance reflects positively on the effectiveness of the coupon distribution s   tegy or the attractiveness of the off themrsmselve\r\n",
    "\r\n",
    "\r\n",
    "\n"
   ]
  },
  {
   "cell_type": "markdown",
   "metadata": {},
   "source": [
    "5. Use a bar plot to visualize the `coupon` column."
   ]
  },
  {
   "cell_type": "code",
   "execution_count": 14,
   "metadata": {},
   "outputs": [
    {
     "data": {
      "image/png": "[encoded data removed]",
      "text/plain": [
       "<Figure size 640x480 with 1 Axes>"
      ]
     },
     "metadata": {},
     "output_type": "display_data"
    }
   ],
   "source": [
    "  \n",
    "##  Bar plot to visualize the distribution of  coupon acceptance\n",
    "# creating custom hue labels\n",
    "custom_labels = {\"1\": \"Accepted\", \"0\": \"Not Accepted\"}\n",
    "hue_labels = data['coupon_accepted'].astype(str).map(custom_labels)\n",
    "\n",
    "# Count the occurrences of each coupon grouped by acceptance status\n",
    "counts = data.groupby(['coupon', hue_labels]).size().unstack()\n",
    "\n",
    "# Plotting the bar plot\n",
    "counts.plot(kind='bar', stacked=False)\n",
    "\n",
    "plt.title('Distribution of Coupon Acceptance')\n",
    "plt.xlabel('Coupon')\n",
    "plt.ylabel('Count')\n",
    "plt.xticks(rotation= 40)\n",
    "\n",
    "# Show the plot\n",
    "plt.show()"
   ]
  },
  {
   "cell_type": "markdown",
   "metadata": {},
   "source": [
    "***Notes:*** Bar plot to visualize the distribution of coupon acceptance, and it help you to understand differnciate the number of Coupons accepted vs not            accepted in each category  \n"
   ]
  },
  {
   "cell_type": "markdown",
   "metadata": {},
   "source": [
    "6. Use a histogram to visualize the temperature column."
   ]
  },
  {
   "cell_type": "code",
   "execution_count": 15,
   "metadata": {},
   "outputs": [
    {
     "data": {
      "image/png": "[encoded data removed]",
      "text/plain": [
       "<Figure size 1000x800 with 2 Axes>"
      ]
     },
     "metadata": {},
     "output_type": "display_data"
    },
    {
     "name": "stdout",
     "output_type": "stream",
     "text": [
      "   Temperature (°F)  Count\n",
      "0                80   6222\n",
      "1                55   3662\n",
      "2                30   2195\n"
     ]
    },
    {
     "data": {
      "image/png": "[encoded data removed]",
      "text/plain": [
       "<Figure size 1000x600 with 1 Axes>"
      ]
     },
     "metadata": {},
     "output_type": "display_data"
    }
   ],
   "source": [
    "## Extracting weather data\n",
    "weather_data = data [['weather','temperature','time' ]]\n",
    "#weather_data\n",
    "# Create subplots for temperature and time\n",
    "fig, axs = plt.subplots(2, 1, figsize=(10, 8))\n",
    "\n",
    "# Plot histograms for temperature under different weather conditions\n",
    "for weather_condition in weather_data['weather'].unique():\n",
    "    temperature_subset = weather_data[weather_data['weather'] == weather_condition]['temperature']\n",
    "    axs[0].hist(temperature_subset, bins=20, alpha=0.7, label=weather_condition)\n",
    "\n",
    "axs[0].set_title('Histogram of Temperature by Weather')\n",
    "axs[0].set_xlabel('Temperature')\n",
    "axs[0].set_ylabel('Frequency')\n",
    "axs[0].legend()\n",
    "\n",
    "# Plot histograms for time under different weather conditions\n",
    "for weather_condition in weather_data['weather'].unique():\n",
    "    time_subset = weather_data[weather_data['weather'] == weather_condition]['time']\n",
    "    axs[1].hist(time_subset, bins=20, alpha=0.7, label=weather_condition)\n",
    "\n",
    "axs[1].set_title('Histogram of Time by Weather')\n",
    "axs[1].set_xlabel('Time')\n",
    "axs[1].set_ylabel('Frequency')\n",
    "axs[1].legend()\n",
    "\n",
    "plt.tight_layout()\n",
    "plt.show()\n",
    "\n",
    "\n",
    "# Count the number of instances of each temperature\n",
    "temperature_counts = data['temperature'].value_counts().reset_index()\n",
    "# Rename the columns\n",
    "temperature_counts.columns = ['Temperature (°F)', 'Count']\n",
    "#temperature_counts Count the number of instances of each temperature\n",
    "temperature_counts = data['temperature'].value_counts().reset_index()\n",
    "\n",
    "# Rename the columns\n",
    "temperature_counts.columns = ['Temperature (°F)', 'Count']\n",
    "print (temperature_counts)\n",
    "\n",
    "# Plot the bar plot to visualize the count of instances for each temperature\n",
    "plt.figure(figsize=(10, 6))\n",
    "sns.barplot(data=temperature_counts, x='Temperature (°F)', y='Count', color='skyblue')\n",
    "plt.title('Count of Instances for Each Temperature')\n",
    "plt.xlabel('Temperature (°F)')\n",
    "plt.ylabel('Count')\n",
    "plt.xticks(rotation=45)\n",
    "plt.show()\n",
    "\n",
    "\n"
   ]
  },
  {
   "cell_type": "markdown",
   "metadata": {},
   "source": [
    "***Notes:*** Above subplots and plots created using matplotlib and seaborn plotting libraries to visualize the temperature column\n"
   ]
  },
  {
   "cell_type": "code",
   "execution_count": null,
   "metadata": {},
   "outputs": [],
   "source": []
  },
  {
   "cell_type": "code",
   "execution_count": null,
   "metadata": {},
   "outputs": [],
   "source": []
  },
  {
   "cell_type": "markdown",
   "metadata": {},
   "source": [
    "**Investigating the Bar Coupons**\n",
    "\n",
    "Now, we will lead you through an exploration of just the bar related coupons.  \n",
    "\n",
    "1. Create a new `DataFrame` that contains just the bar coupons.\n"
   ]
  },
  {
   "cell_type": "code",
   "execution_count": 16,
   "metadata": {},
   "outputs": [
    {
     "data": {
      "text/html": [
       "<div>\n",
       "<style scoped>\n",
       "    .dataframe tbody tr th:only-of-type {\n",
       "        vertical-align: middle;\n",
       "    }\n",
       "\n",
       "    .dataframe tbody tr th {\n",
       "        vertical-align: top;\n",
       "    }\n",
       "\n",
       "    .dataframe thead th {\n",
       "        text-align: right;\n",
       "    }\n",
       "</style>\n",
       "<table border=\"1\" class=\"dataframe\">\n",
       "  <thead>\n",
       "    <tr style=\"text-align: right;\">\n",
       "      <th></th>\n",
       "      <th>destination</th>\n",
       "      <th>passanger</th>\n",
       "      <th>weather</th>\n",
       "      <th>temperature</th>\n",
       "      <th>time</th>\n",
       "      <th>coupon</th>\n",
       "      <th>expiration</th>\n",
       "      <th>gender</th>\n",
       "      <th>age</th>\n",
       "      <th>maritalStatus</th>\n",
       "      <th>...</th>\n",
       "      <th>CoffeeHouse</th>\n",
       "      <th>CarryAway</th>\n",
       "      <th>RestaurantLessThan20</th>\n",
       "      <th>Restaurant20To50</th>\n",
       "      <th>toCoupon_GEQ5min</th>\n",
       "      <th>toCoupon_GEQ15min</th>\n",
       "      <th>toCoupon_GEQ25min</th>\n",
       "      <th>direction_same</th>\n",
       "      <th>direction_opp</th>\n",
       "      <th>coupon_accepted</th>\n",
       "    </tr>\n",
       "  </thead>\n",
       "  <tbody>\n",
       "    <tr>\n",
       "      <th>24</th>\n",
       "      <td>No Urgent Place</td>\n",
       "      <td>Friend(s)</td>\n",
       "      <td>Sunny</td>\n",
       "      <td>80</td>\n",
       "      <td>10AM</td>\n",
       "      <td>Bar</td>\n",
       "      <td>1d</td>\n",
       "      <td>Male</td>\n",
       "      <td>21</td>\n",
       "      <td>Single</td>\n",
       "      <td>...</td>\n",
       "      <td>less1</td>\n",
       "      <td>4~8</td>\n",
       "      <td>4~8</td>\n",
       "      <td>less1</td>\n",
       "      <td>1</td>\n",
       "      <td>0</td>\n",
       "      <td>0</td>\n",
       "      <td>0</td>\n",
       "      <td>1</td>\n",
       "      <td>1</td>\n",
       "    </tr>\n",
       "    <tr>\n",
       "      <th>35</th>\n",
       "      <td>Home</td>\n",
       "      <td>Alone</td>\n",
       "      <td>Sunny</td>\n",
       "      <td>55</td>\n",
       "      <td>6PM</td>\n",
       "      <td>Bar</td>\n",
       "      <td>1d</td>\n",
       "      <td>Male</td>\n",
       "      <td>21</td>\n",
       "      <td>Single</td>\n",
       "      <td>...</td>\n",
       "      <td>less1</td>\n",
       "      <td>4~8</td>\n",
       "      <td>4~8</td>\n",
       "      <td>less1</td>\n",
       "      <td>1</td>\n",
       "      <td>0</td>\n",
       "      <td>0</td>\n",
       "      <td>1</td>\n",
       "      <td>0</td>\n",
       "      <td>1</td>\n",
       "    </tr>\n",
       "    <tr>\n",
       "      <th>39</th>\n",
       "      <td>Work</td>\n",
       "      <td>Alone</td>\n",
       "      <td>Sunny</td>\n",
       "      <td>55</td>\n",
       "      <td>7AM</td>\n",
       "      <td>Bar</td>\n",
       "      <td>1d</td>\n",
       "      <td>Male</td>\n",
       "      <td>21</td>\n",
       "      <td>Single</td>\n",
       "      <td>...</td>\n",
       "      <td>less1</td>\n",
       "      <td>4~8</td>\n",
       "      <td>4~8</td>\n",
       "      <td>less1</td>\n",
       "      <td>1</td>\n",
       "      <td>1</td>\n",
       "      <td>1</td>\n",
       "      <td>0</td>\n",
       "      <td>1</td>\n",
       "      <td>1</td>\n",
       "    </tr>\n",
       "    <tr>\n",
       "      <th>46</th>\n",
       "      <td>No Urgent Place</td>\n",
       "      <td>Friend(s)</td>\n",
       "      <td>Sunny</td>\n",
       "      <td>80</td>\n",
       "      <td>10AM</td>\n",
       "      <td>Bar</td>\n",
       "      <td>1d</td>\n",
       "      <td>Male</td>\n",
       "      <td>46</td>\n",
       "      <td>Single</td>\n",
       "      <td>...</td>\n",
       "      <td>4~8</td>\n",
       "      <td>1~3</td>\n",
       "      <td>1~3</td>\n",
       "      <td>never</td>\n",
       "      <td>1</td>\n",
       "      <td>0</td>\n",
       "      <td>0</td>\n",
       "      <td>0</td>\n",
       "      <td>1</td>\n",
       "      <td>0</td>\n",
       "    </tr>\n",
       "    <tr>\n",
       "      <th>57</th>\n",
       "      <td>Home</td>\n",
       "      <td>Alone</td>\n",
       "      <td>Sunny</td>\n",
       "      <td>55</td>\n",
       "      <td>6PM</td>\n",
       "      <td>Bar</td>\n",
       "      <td>1d</td>\n",
       "      <td>Male</td>\n",
       "      <td>46</td>\n",
       "      <td>Single</td>\n",
       "      <td>...</td>\n",
       "      <td>4~8</td>\n",
       "      <td>1~3</td>\n",
       "      <td>1~3</td>\n",
       "      <td>never</td>\n",
       "      <td>1</td>\n",
       "      <td>0</td>\n",
       "      <td>0</td>\n",
       "      <td>1</td>\n",
       "      <td>0</td>\n",
       "      <td>0</td>\n",
       "    </tr>\n",
       "  </tbody>\n",
       "</table>\n",
       "<p>5 rows × 26 columns</p>\n",
       "</div>"
      ],
      "text/plain": [
       "        destination  passanger weather  temperature  time coupon expiration  \\\n",
       "24  No Urgent Place  Friend(s)   Sunny           80  10AM    Bar         1d   \n",
       "35             Home      Alone   Sunny           55   6PM    Bar         1d   \n",
       "39             Work      Alone   Sunny           55   7AM    Bar         1d   \n",
       "46  No Urgent Place  Friend(s)   Sunny           80  10AM    Bar         1d   \n",
       "57             Home      Alone   Sunny           55   6PM    Bar         1d   \n",
       "\n",
       "   gender age maritalStatus  ...  CoffeeHouse CarryAway RestaurantLessThan20  \\\n",
       "24   Male  21        Single  ...        less1       4~8                  4~8   \n",
       "35   Male  21        Single  ...        less1       4~8                  4~8   \n",
       "39   Male  21        Single  ...        less1       4~8                  4~8   \n",
       "46   Male  46        Single  ...          4~8       1~3                  1~3   \n",
       "57   Male  46        Single  ...          4~8       1~3                  1~3   \n",
       "\n",
       "   Restaurant20To50 toCoupon_GEQ5min toCoupon_GEQ15min toCoupon_GEQ25min  \\\n",
       "24            less1                1                 0                 0   \n",
       "35            less1                1                 0                 0   \n",
       "39            less1                1                 1                 1   \n",
       "46            never                1                 0                 0   \n",
       "57            never                1                 0                 0   \n",
       "\n",
       "   direction_same direction_opp coupon_accepted  \n",
       "24              0             1               1  \n",
       "35              1             0               1  \n",
       "39              0             1               1  \n",
       "46              0             1               0  \n",
       "57              1             0               0  \n",
       "\n",
       "[5 rows x 26 columns]"
      ]
     },
     "execution_count": 16,
     "metadata": {},
     "output_type": "execute_result"
    }
   ],
   "source": [
    "## creating DataFrame with bar coupons related data using \"query\" function\n",
    "bar_coupons = data.query(\"coupon == 'Bar'\")\n",
    "## Verify sample data\n",
    "bar_coupons.head()"
   ]
  },
  {
   "cell_type": "code",
   "execution_count": 17,
   "metadata": {},
   "outputs": [
    {
     "data": {
      "text/plain": [
       "(array(['never', 'less1', '1~3', 'gt8', '4~8'], dtype=object),\n",
       " Bar\n",
       " never    788\n",
       " less1    553\n",
       " 1~3      379\n",
       " 4~8      147\n",
       " gt8       46\n",
       " Name: count, dtype: int64)"
      ]
     },
     "execution_count": 17,
     "metadata": {},
     "output_type": "execute_result"
    }
   ],
   "source": [
    "## Unique values and their counts in the \"Bar\" column:\n",
    "bar_unique = bar_coupons['Bar'].unique()\n",
    "bar_counts= bar_coupons ['Bar'].value_counts()\n",
    "\n",
    "bar_unique,bar_counts"
   ]
  },
  {
   "cell_type": "code",
   "execution_count": 18,
   "metadata": {},
   "outputs": [],
   "source": [
    "### DO NOT USE THIS CODE - initially tried to lable the string values with categorical lables, but it doesn't add any value as we not plotting these variables\n",
    "# # Define the mapping dictionary for string values to categorical labels\n",
    "# mapping = {'never':'never','less1': 'less than 1', '1~3': '1 to 3', '4~8': '4 to 8', 'gt8': 'more than 8'}\n",
    "\n",
    "# # Map string values to categorical labels in the 'Bar' column using .loc\n",
    "# bar_coupons.loc[:, 'Bar'] = bar_coupons['Bar'].map(mapping)\n",
    "\n",
    "# # Print the DataFrame after replacing\n",
    "# print(\"After Replacing:\\n\", bar_coupons.head())\n"
   ]
  },
  {
   "cell_type": "code",
   "execution_count": 19,
   "metadata": {},
   "outputs": [],
   "source": [
    "### DO NOT USE THIS CODE -\n",
    "## Check values after replacing the labels of the values in the \"Bar\" column:\n",
    "# bar_unique = bar_coupons['Bar'].unique()\n",
    "# bar_counts= bar_coupons ['Bar'].value_counts()\n",
    "# bar_unique,bar_counts"
   ]
  },
  {
   "cell_type": "markdown",
   "metadata": {},
   "source": [
    "***Notes:*** Filtered the data from main dataframe using query function and created a new dataframe for bar coupons category\n"
   ]
  },
  {
   "cell_type": "markdown",
   "metadata": {},
   "source": [
    "2. What proportion of bar coupons were accepted?\n"
   ]
  },
  {
   "cell_type": "code",
   "execution_count": 30,
   "metadata": {},
   "outputs": [
    {
     "name": "stdout",
     "output_type": "stream",
     "text": [
      "Proportion of the bar coupons accepted: 0.41191845269210664\n"
     ]
    }
   ],
   "source": [
    "## Calculating the proporation of the bar coupons were accepted\n",
    "prop_accepted = sum(map(lambda x: x == 1, bar_coupons['coupon_accepted']))/len(bar_coupons['coupon_accepted'])\n",
    "print(\"Proportion of the bar coupons accepted:\",prop_accepted)"
   ]
  },
  {
   "cell_type": "markdown",
   "metadata": {},
   "source": [
    "***Findings:***\n",
    "The proportion of the car coupons acceptance rate is slightly lower suggests that more bar coupons were rejected than accepted. \n",
    "In other words, the acceptance rate for car coupons is lower compared to the acceptance rate for bar coupons.\n",
    "To improve the acceptance rate of car coupons, further analysis might be needed to understand the drivers' preferences, adjust the marketing             strategy, or offer more enticing incentives.\n"
   ]
  },
  {
   "cell_type": "markdown",
   "metadata": {},
   "source": [
    "3. Compare the acceptance rate between those who went to a bar 3 or fewer times a month to those who went more.\n"
   ]
  },
  {
   "cell_type": "code",
   "execution_count": 21,
   "metadata": {},
   "outputs": [
    {
     "name": "stdout",
     "output_type": "stream",
     "text": [
      "coupon_accepted\n",
      "0    134\n",
      "1    245\n",
      "dtype: int64\n",
      "Acceptance rate for those who went to a bar 3 or fewer times a month: 0.6464379947229552\n",
      "coupon_accepted\n",
      "0     46\n",
      "1    147\n",
      "dtype: int64\n",
      "Acceptance rate for those who went to a bar more than 3 times a month: 0.7616580310880829\n"
     ]
    }
   ],
   "source": [
    "# Calculate acceptance rate for those who went to a bar 3 or fewer times a month\n",
    "# Filtering the data based on conditions and grouping by 'coupon_accepted' and counting occurrences\n",
    "Three_or_fewer_grouped = bar_coupons.query(\"Bar == '1~3'\").groupby('coupon_accepted').size()\n",
    "# calculate acceptance rate\n",
    "Three_or_fewer_acceptance_rate = Three_or_fewer_grouped.get(1, 0) / Three_or_fewer_grouped.sum()\n",
    "\n",
    "# Calculate acceptance rate for those who went to bar more than 3 times a month\n",
    "# Filtering the data based on conditions and grouping by 'coupon_accepted' and counting occurrences\n",
    "more_than_three_grouped = bar_coupons.query('Bar in [\"4~8\",\"gt8\"]').groupby('coupon_accepted').size()\n",
    "# calculate acceptance rate\n",
    "more_than_three_acceptance_rate = more_than_three_grouped.get(1,0) / more_than_three_grouped.sum()\n",
    "\n",
    "# Print the acceptance rates for comparison\n",
    "print( Three_or_fewer_grouped)\n",
    "print(\"Acceptance rate for those who went to a bar 3 or fewer times a month:\", Three_or_fewer_acceptance_rate)\n",
    "#print(\"Acceptance rate for those who went to a bar more than 3 times a month:\",Three_or_fewer_acceptance_rate)\n",
    "print(more_than_three_grouped)\n",
    "print(\"Acceptance rate for those who went to a bar more than 3 times a month:\", more_than_three_acceptance_rate)"
   ]
  },
  {
   "cell_type": "markdown",
   "metadata": {},
   "source": [
    "***Findings:***\n",
    "It's evident that there is a notable difference in the acceptance rates of bar coupons based on the frequency of bar visits.\n",
    "For individuals who went to a bar 3 or fewer times a month, the acceptance rate is 0.6464379947229552.\n",
    "For those who went to a bar more than 3 times a month, the acceptance rate is 0.7616580310880829\n",
    "The data indicates that individuals who visit bars more frequently, exceeding 3 times a month, are significantly more likely to accept bar coupons       compared to those who visit bars less frequently.\n",
    "This suggests that there might be a correlation between the frequency of bar visits and the propensity to accept promotional offers like bar             coupons\n",
    "In conclusion, the findings suggest that targeting individuals who visit bars more frequently with bar coupons might be a more effective strategy        for increasing redemption rates compared to targeting those who visit bars less often.\n",
    "**Notes***\n",
    "values 'never'and 'less1' considered as those who never went to a bar, and excluded from this specific usecase analysis\n"
   ]
  },
  {
   "cell_type": "markdown",
   "metadata": {},
   "source": [
    "4. Compare the acceptance rate between drivers who go to a bar more than once a month and are over the age of 25 to the all others.  Is there a difference?\n"
   ]
  },
  {
   "cell_type": "code",
   "execution_count": 22,
   "metadata": {},
   "outputs": [
    {
     "name": "stdout",
     "output_type": "stream",
     "text": [
      "['21' '46' '26' '31' '41' '50plus' '36' 'below21']\n",
      "age\n",
      "21         397\n",
      "26         368\n",
      "31         324\n",
      "50plus     273\n",
      "36         196\n",
      "41         171\n",
      "46         103\n",
      "below21     81\n",
      "Name: count, dtype: int64\n",
      "Case#1: Coupon Acceptance counts: coupon_accepted\n",
      "0    125\n",
      "1    278\n",
      "dtype: int64\n",
      "Case#2: Coupon Acceptance counts: coupon_accepted\n",
      "0     55\n",
      "1    114\n",
      "dtype: int64\n",
      "Case#1: Acceptance rate for the drivers who go to a bar more than once a month and are over the age of 25: 0.6898263027295285\n",
      "Case#2: acceptance rate for the drivers who go to a bar more than once a month and all the age categories other than over the age of 25: 0.6745562130177515\n"
     ]
    }
   ],
   "source": [
    "## verify unique values and and corresponding counts in the \"age\" column:\n",
    "\n",
    "age_unique = bar_coupons['age'].unique()\n",
    "age_counts= bar_coupons ['age'].value_counts()\n",
    "\n",
    "# print individual values and counts in the \"age\" column\n",
    "print (age_unique)\n",
    "print (age_counts)\n",
    "\n",
    "# Case#1: Calculating acceptance rate for the drivers who go to a bar more than once a month and are over the age of 25\n",
    "\n",
    "# create lists\n",
    "bar_list =  [\"1~3\",\"4~8\",\"gt8\"]\n",
    "age_over25_list = [\"46\", \"26\", \"31\", \"41\", \"50plus\", \"36\"]\n",
    "# Filtering the data based on conditions and grouping by 'coupon_accepted' and counting occurrences\n",
    "More_than_once_over_age_25 = bar_coupons.query(\"Bar in @bar_list and age in @age_over25_list\").groupby('coupon_accepted').size()\n",
    "# Case#1: Calculate acceptance rate \n",
    "More_than_once_over_age_25_acceptance_rate =  More_than_once_over_age_25.get(1,0) / More_than_once_over_age_25.sum()\n",
    "\n",
    "# Case#2: Calculating acceptance rate for the drivers who go to a bar more than once a month and all the age categories other than over the age of 25\n",
    "# create lists\n",
    "age_all_other_list = [\"21\", \"below21\"]\n",
    "# Filtering the data based on conditions and grouping by 'coupon_accepted' and counting occurrences\n",
    "More_than_once_over_age_others = bar_coupons.query(\"Bar in @bar_list and age in @age_all_other_list\").groupby('coupon_accepted').size()\n",
    "# Case#2: Calculate acceptance rate \n",
    "More_than_once_over_age_others_acceptance_rate = More_than_once_over_age_others.get(1,0) /  More_than_once_over_age_others.sum()\n",
    "\n",
    "\n",
    "# Print the acceptance rates for comparison\n",
    "print (\"Case#1: Coupon Acceptance counts:\" ,More_than_once_over_age_25)\n",
    "print (\"Case#2: Coupon Acceptance counts:\", More_than_once_over_age_others)\n",
    "print (\"Case#1: Acceptance rate for the drivers who go to a bar more than once a month and are over the age of 25:\"\n",
    "        , More_than_once_over_age_25_acceptance_rate)\n",
    "print (\"Case#2: acceptance rate for the drivers who go to a bar more than once a month and all the age categories other than over the age of 25:\" \n",
    "       , More_than_once_over_age_others_acceptance_rate)\n",
    "\n"
   ]
  },
  {
   "cell_type": "markdown",
   "metadata": {},
   "source": [
    "***Findings:*** \n",
    "It appears that there is a slight difference in the acceptance rate of bar coupons between drivers who go to a bar more than once a month and            are over the age of 25 compared to drivers who fall into other age categories, including those under the age of 25.\r\n",
    "Specificall:\r\n",
    "\r\n",
    "The acceptance rate for drivers who go to a bar more than once a month and are over the age of 25 is 0.68982630272.\n",
    "T.\r\n",
    "The acceptance rate for drivers who go to a bar more than once a month and are in all age categories other than over \n",
    "the age      0.67455621301775\n",
    "5.\r\n",
    "From these numbers, we can see that the acceptance rate is slightly higher for drivers who are over the age of 25. This suggests      older drivers, who may have more established preferences or habits, are marginally more likely to accept bar coupons compared to youngev   -\n",
    "rs.\r\n",
    "\r\n",
    "However, the difference in acceptance rates is relatively small, indicating that age alone might not be a significant factor        rmining whether a driver accepts bar coupons. Other variables or factors may also play a role in influencing acceptance rates.\n"
   ]
  },
  {
   "cell_type": "markdown",
   "metadata": {},
   "source": [
    "5. Use the same process to compare the acceptance rate between drivers who go to bars more than once a month and had passengers that were not a kid and had occupations other than farming, fishing, or forestry. \n"
   ]
  },
  {
   "cell_type": "code",
   "execution_count": 23,
   "metadata": {},
   "outputs": [
    {
     "name": "stdout",
     "output_type": "stream",
     "text": [
      "['Friend(s)' 'Alone' 'Kid(s)' 'Partner']\n",
      "['Architecture & Engineering' 'Student' 'Education&Training&Library'\n",
      " 'Unemployed' 'Healthcare Support' 'Healthcare Practitioners & Technical'\n",
      " 'Sales & Related' 'Management' 'Arts Design Entertainment Sports & Media'\n",
      " 'Computer & Mathematical' 'Life Physical Social Science'\n",
      " 'Personal Care & Service' 'Office & Administrative Support'\n",
      " 'Construction & Extraction' 'Legal' 'Retired'\n",
      " 'Community & Social Services' 'Installation Maintenance & Repair'\n",
      " 'Transportation & Material Moving' 'Business & Financial'\n",
      " 'Protective Service' 'Food Preparation & Serving Related'\n",
      " 'Production Occupations' 'Building & Grounds Cleaning & Maintenance'\n",
      " 'Farming Fishing & Forestry']\n",
      "coupon_accepted\n",
      "0    154\n",
      "1    376\n",
      "dtype: int64\n",
      "Acceptance rate: 0.7094339622641509\n"
     ]
    }
   ],
   "source": [
    "## Identify Unique values in the \"passanger\" and \"occupation\" columns:\n",
    "passanger_unique = bar_coupons['passanger'].unique()\n",
    "occupation_unique = bar_coupons['occupation'].unique()\n",
    "# Check the unqiue values\n",
    "print (passanger_unique)\n",
    "print (occupation_unique)\n",
    "\n",
    "## Creating lists to filter the data\n",
    "passanger_list = [\"Friend(s)\", \"Alone\", \"Partner\"]\n",
    "occupations_list = [value for value in bar_coupons['occupation'] if value !=  'Farming Fishing & Forestry' ]\n",
    "occupations_list = list(set(occupations_list))\n",
    "# print (occupations_list)\n",
    "\n",
    "## Filtering the data based on conditions Grouping by 'coupon_accepted' and counting occurrences\n",
    "filtered_data = bar_coupons.query(\"Bar in @bar_list and passanger in @passanger_list and occupation in @occupations_list \").groupby('coupon_accepted').size()\n",
    "print (filtered_data)\n",
    "## Calculate Acceptance rate\n",
    "acceptance_rate = filtered_data.get(1,0) / filtered_data.sum()\n",
    "\n",
    "## Print acceptance rate\n",
    "print (\"Acceptance rate:\",acceptance_rate)"
   ]
  },
  {
   "cell_type": "markdown",
   "metadata": {},
   "source": [
    "***Findings:*** \n",
    "compared the acceptance rate between drivers who go to bars more than once a month and had passengers that were not a kid and had                        occupations other than farming, fishing, or forestry.\n",
    "It appears that the acceptance rate for bar coupons is higher among drivers who go to bars more frequently, have adult passengers, and have              occupations other than farming, fishing, or forestry. \n",
    "This suggests that drivers who visit bars more frequently, especially with adult passengers and occupations that are not in the \"Farming,                Fishing & Forestry\" sector, tend to have a higher likelihood of accepting bar coupons.\r\n",
    "This finding could indicate that these drivers, who may have higher-paying occupations and socialize more frequently in bar settings, a e more receptive to promotional offers such as bar coupons. It aligns with the notion that individuals with higher disposable incomes and mo e varied social activities might be more inclined to take advantage of discounts or promotional deals.\n"
   ]
  },
  {
   "cell_type": "markdown",
   "metadata": {},
   "source": [
    "6. Compare the acceptance rates between those drivers who:\n",
    "\n",
    "- go to bars more than once a month, had passengers that were not a kid, and were not widowed *OR*\n",
    "- go to bars more than once a month and are under the age of 30 *OR*\n",
    "- go to cheap restaurants more than 4 times a month and income is less than 50K. \n",
    "\n"
   ]
  },
  {
   "cell_type": "code",
   "execution_count": 24,
   "metadata": {},
   "outputs": [
    {
     "name": "stdout",
     "output_type": "stream",
     "text": [
      "Filtered data for Case#1: coupon_accepted\n",
      "0    154\n",
      "1    376\n",
      "dtype: int64\n",
      "coupon_accepted\n",
      "0     92\n",
      "1    236\n",
      "dtype: int64\n",
      "['4~8' '1~3' 'less1' 'gt8' 'never']\n",
      "['$62500 - $74999' '$12500 - $24999' '$75000 - $87499' '$50000 - $62499'\n",
      " '$37500 - $49999' '$25000 - $37499' '$100000 or More' '$87500 - $99999'\n",
      " 'Less than $12500']\n",
      "coupon_accepted\n",
      "0    141\n",
      "1    350\n",
      "dtype: int64\n",
      "Case#1: Acceptance rate for drivers who go to bars more than once a month, had passengers that were not a kid, and were not widowed: 0.7094339622641509\n",
      "Case#2: Acceptance rate for drivers who go to bars more than once a month and are under the age of 30: 0.7195121951219512\n",
      "Case#: Acceptance rate for drivers who go to cheap restaurants more than 4 times a month and income is less than 50K: 0.7128309572301426\n"
     ]
    }
   ],
   "source": [
    "## Case#1: Acceptance rate for drivers who go to bars more than once a month, had passengers that were not a kid, and were not widowed \n",
    "## Identify Unique values in the \"maritalStatus\" column:\n",
    "marital_status_unique = bar_coupons['maritalStatus'].unique()\n",
    "#print (marital_status_unique)\n",
    "\n",
    "##  create a dataframe with the (maritalStatus) filtered the data \n",
    "filtered_data = bar_coupons[bar_coupons['maritalStatus'] != 'Widowed']\n",
    "# Create a list of marital statuses from the filtered DataFrame\n",
    "marital_status_list = filtered_data['maritalStatus'].tolist()\n",
    "# creating a unique list\n",
    "marital_status_list = list(set(marital_status_list)) \n",
    "#print (marital_status_list)\n",
    "\n",
    "## Case#1: Filtering the data based on conditions Grouping by 'coupon_accepted' and counting occurrences\n",
    "filtered_data_case1 = bar_coupons.query(\"Bar in @bar_list and passanger in @passanger_list and maritalStatus in @marital_status_list \").groupby('coupon_accepted').size()\n",
    "print ( \"Filtered data for Case#1:\",filtered_data_case1)\n",
    "\n",
    "## Calculate Acceptance rate for Case#1\n",
    "acceeptance_rate_case1 = filtered_data_case1.get(1,0) / filtered_data_case1.sum()\n",
    "\n",
    "## Case#2: Acceptance rate for drivers who go to bars more than once a month and are under the age of 30\n",
    "# create a list for under the age of 30\n",
    "age_under30_list = [\"below21\", \"21\", \"26\"]\n",
    "\n",
    "## Case#2: Filtering the data based on conditions Grouping by 'coupon_accepted' and counting occurrences\n",
    "filtered_data_case2 = bar_coupons.query(\"Bar in @bar_list and age in @age_under30_list\").groupby('coupon_accepted').size()\n",
    "print(filtered_data_case2)\n",
    "\n",
    "## Calculate Acceptance rate for Case#2\n",
    "acceptance_rate_case2 = filtered_data_case2.get(1,0) / filtered_data_case2.sum()\n",
    "\n",
    "## Case#3: Acceptance rate for drivers who go to cheap restaurants more than 4 times a month and income is less than 50K\n",
    "# Createing dataframe with cheap resturants coupons specific attributes\n",
    "restaurant_coupons = data.query (\"coupon == 'Restaurant(<20)'\")\n",
    "#print (type(restaurant_coupons))\n",
    "#print (restaurant_coupons.head())\n",
    "#print (restaurant_coupons.columns)\n",
    "\n",
    "## Identify unique values in the columns \"RestaurantLessThan20\" (cheap restaurants)  and  \"income\" :\n",
    "RestaurantLessThan20_unique =  restaurant_coupons['RestaurantLessThan20'].unique()\n",
    "income_unique = restaurant_coupons['income'].unique()\n",
    "print (RestaurantLessThan20_unique)\n",
    "print (income_unique)\n",
    "\n",
    "## creating lists to filter the data\n",
    "restaurants_morethan4_list = [\"4~8\", \"gt8\"]\n",
    "income_lessthan50k_list = [\"Less than $12500\", \"$12500 - $24999\", \"$25000 - $37499\", \"$37500 - $49999\"]\n",
    "\n",
    "## Case#3: Filtering the data based on conditions, Grouping by 'coupon_accepted' and counting occurrences\n",
    "filtered_data_case3 = restaurant_coupons.query ('RestaurantLessThan20 in @restaurants_morethan4_list and income in @income_lessthan50k_list').groupby('coupon_accepted').size()\n",
    "print (filtered_data_case3)\n",
    "## Calculate acceptance rate for Case#3\n",
    "acceptance_rate_case3 = filtered_data_case3.get(1,0) / filtered_data_case3.sum()\n",
    "\n",
    "## Print Acceptance rates for comparison\n",
    "print (\"Case#1: Acceptance rate for drivers who go to bars more than once a month, had passengers that were not a kid, and were not widowed:\"\n",
    "       ,acceeptance_rate_case1)\n",
    "print (\"Case#2: Acceptance rate for drivers who go to bars more than once a month and are under the age of 30:\"\n",
    "       ,acceptance_rate_case2) \n",
    "print (\"Case#: Acceptance rate for drivers who go to cheap restaurants more than 4 times a month and income is less than 50K:\"\n",
    "       ,acceptance_rate_case3 )"
   ]
  },
  {
   "cell_type": "markdown",
   "metadata": {},
   "source": [
    "7.  Based on these observations, what do you hypothesize about drivers who accepted the bar coupons?"
   ]
  },
  {
   "cell_type": "markdown",
   "metadata": {},
   "source": [
    "***Observations:***\n",
    "Based on the observations,It seems that drivers who go to bars more than once a month tend to have higher acceptance rates for coupons                 compared to other demographic.\n",
    "\n",
    "Additionally, drivers who frequent cheap restaurants more than four times a month and have incomes less than $50K also show a relatively hi h acceptance rat.\n",
    "C\n",
    "Considering these patrns s, we can hypothesize that drivers who accept bar coupons may be individuals who are relatively y  ng (possibly under 3 ), have a moderate inmo e, and are more likely to frequentar  . \r\n",
    "They might also be individuals who are more inclined to accept promotional offers or discounts in ergenal. \r\n",
    "However, it's essential to conduct further analysis and possibly gather more data to validate this hypothesis coniclusvely."
   ]
  },
  {
   "cell_type": "markdown",
   "metadata": {},
   "source": [
    "***Conclusion***\r\n",
    "Based on the findings and observations from the analysis of bar coupon acceptance, below are some of key insights:\r\n",
    "1.\tOverall Acceptance Rate: The proportion of drivers accepting bar coupons is higher than the proportion rejecting them, indicating the effectiveness of the coupon distribution strategy or the attractiveness of the offers themselves.\r\n",
    "2.\tComparison with Other Coupons: Bar coupons have a slightly lower acceptance rate compared to other types of coupons. This suggests a need for further analysis to understand drivers' preferences and adjust marketing strategies accordingly.\r\n",
    "3.\tFrequency of Bar Visits: There is a significant correlation between the frequency of bar visits and the likelihood of accepting bar coupons. Drivers who visit bars more frequently are more likely to accept coupons, indicating that targeting this demographic could be an effective strategy.\r\n",
    "4.\tAge and Acceptance Rates: While older drivers show a slightly higher acceptance rate for bar coupons, the difference is relatively small. This suggests that age alone may not be a significant factor in acceptance rates, and other variables likely play a role.\r\n",
    "5.\tOccupation and Passenger Type: Drivers who visit bars more frequently, have adult passengers, and are not in specific occupational sectors tend to have higher acceptance rates. This could indicate that drivers with higher disposable incomes and more varied social activities are more receptive to promotional offers.\r\n",
    "6.\tDemographic Patterns: Drivers who go to bars frequently, as well as those who frequent cheap restaurants and have lower incomes, show higher acceptance rates. This suggests that individuals who are younger, have moderate incomes, and frequent bars may be more inclined to accept co\n",
    "upons.\r\n",
    "In conclusion, targeting drivers who visit bars frequently, especially those with certain demographic characteristics, could lead to higher redemption rates for bar coupons. However, further analysis and data validation are necessary to solidify these findings and optimize marketing strategies effectively.\r\n"
   ]
  },
  {
   "cell_type": "markdown",
   "metadata": {},
   "source": [
    "### Independent Investigation\n",
    "\n",
    "Using the bar coupon example as motivation, you are to explore one of the other coupon groups and try to determine the characteristics of passengers who accept the coupons.  "
   ]
  },
  {
   "cell_type": "code",
   "execution_count": 25,
   "metadata": {},
   "outputs": [
    {
     "data": {
      "text/html": [
       "<div>\n",
       "<style scoped>\n",
       "    .dataframe tbody tr th:only-of-type {\n",
       "        vertical-align: middle;\n",
       "    }\n",
       "\n",
       "    .dataframe tbody tr th {\n",
       "        vertical-align: top;\n",
       "    }\n",
       "\n",
       "    .dataframe thead th {\n",
       "        text-align: right;\n",
       "    }\n",
       "</style>\n",
       "<table border=\"1\" class=\"dataframe\">\n",
       "  <thead>\n",
       "    <tr style=\"text-align: right;\">\n",
       "      <th></th>\n",
       "      <th>destination</th>\n",
       "      <th>passanger</th>\n",
       "      <th>weather</th>\n",
       "      <th>temperature</th>\n",
       "      <th>time</th>\n",
       "      <th>coupon</th>\n",
       "      <th>expiration</th>\n",
       "      <th>gender</th>\n",
       "      <th>age</th>\n",
       "      <th>maritalStatus</th>\n",
       "      <th>...</th>\n",
       "      <th>CoffeeHouse</th>\n",
       "      <th>CarryAway</th>\n",
       "      <th>RestaurantLessThan20</th>\n",
       "      <th>Restaurant20To50</th>\n",
       "      <th>toCoupon_GEQ5min</th>\n",
       "      <th>toCoupon_GEQ15min</th>\n",
       "      <th>toCoupon_GEQ25min</th>\n",
       "      <th>direction_same</th>\n",
       "      <th>direction_opp</th>\n",
       "      <th>coupon_accepted</th>\n",
       "    </tr>\n",
       "  </thead>\n",
       "  <tbody>\n",
       "    <tr>\n",
       "      <th>23</th>\n",
       "      <td>No Urgent Place</td>\n",
       "      <td>Friend(s)</td>\n",
       "      <td>Sunny</td>\n",
       "      <td>80</td>\n",
       "      <td>10AM</td>\n",
       "      <td>Coffee House</td>\n",
       "      <td>2h</td>\n",
       "      <td>Male</td>\n",
       "      <td>21</td>\n",
       "      <td>Single</td>\n",
       "      <td>...</td>\n",
       "      <td>less1</td>\n",
       "      <td>4~8</td>\n",
       "      <td>4~8</td>\n",
       "      <td>less1</td>\n",
       "      <td>1</td>\n",
       "      <td>0</td>\n",
       "      <td>0</td>\n",
       "      <td>0</td>\n",
       "      <td>1</td>\n",
       "      <td>0</td>\n",
       "    </tr>\n",
       "    <tr>\n",
       "      <th>26</th>\n",
       "      <td>No Urgent Place</td>\n",
       "      <td>Friend(s)</td>\n",
       "      <td>Sunny</td>\n",
       "      <td>80</td>\n",
       "      <td>2PM</td>\n",
       "      <td>Coffee House</td>\n",
       "      <td>1d</td>\n",
       "      <td>Male</td>\n",
       "      <td>21</td>\n",
       "      <td>Single</td>\n",
       "      <td>...</td>\n",
       "      <td>less1</td>\n",
       "      <td>4~8</td>\n",
       "      <td>4~8</td>\n",
       "      <td>less1</td>\n",
       "      <td>1</td>\n",
       "      <td>0</td>\n",
       "      <td>0</td>\n",
       "      <td>0</td>\n",
       "      <td>1</td>\n",
       "      <td>0</td>\n",
       "    </tr>\n",
       "    <tr>\n",
       "      <th>27</th>\n",
       "      <td>No Urgent Place</td>\n",
       "      <td>Friend(s)</td>\n",
       "      <td>Sunny</td>\n",
       "      <td>80</td>\n",
       "      <td>2PM</td>\n",
       "      <td>Coffee House</td>\n",
       "      <td>2h</td>\n",
       "      <td>Male</td>\n",
       "      <td>21</td>\n",
       "      <td>Single</td>\n",
       "      <td>...</td>\n",
       "      <td>less1</td>\n",
       "      <td>4~8</td>\n",
       "      <td>4~8</td>\n",
       "      <td>less1</td>\n",
       "      <td>1</td>\n",
       "      <td>1</td>\n",
       "      <td>0</td>\n",
       "      <td>0</td>\n",
       "      <td>1</td>\n",
       "      <td>0</td>\n",
       "    </tr>\n",
       "    <tr>\n",
       "      <th>28</th>\n",
       "      <td>No Urgent Place</td>\n",
       "      <td>Friend(s)</td>\n",
       "      <td>Sunny</td>\n",
       "      <td>80</td>\n",
       "      <td>2PM</td>\n",
       "      <td>Coffee House</td>\n",
       "      <td>1d</td>\n",
       "      <td>Male</td>\n",
       "      <td>21</td>\n",
       "      <td>Single</td>\n",
       "      <td>...</td>\n",
       "      <td>less1</td>\n",
       "      <td>4~8</td>\n",
       "      <td>4~8</td>\n",
       "      <td>less1</td>\n",
       "      <td>1</td>\n",
       "      <td>1</td>\n",
       "      <td>0</td>\n",
       "      <td>0</td>\n",
       "      <td>1</td>\n",
       "      <td>0</td>\n",
       "    </tr>\n",
       "    <tr>\n",
       "      <th>30</th>\n",
       "      <td>No Urgent Place</td>\n",
       "      <td>Friend(s)</td>\n",
       "      <td>Sunny</td>\n",
       "      <td>80</td>\n",
       "      <td>6PM</td>\n",
       "      <td>Coffee House</td>\n",
       "      <td>2h</td>\n",
       "      <td>Male</td>\n",
       "      <td>21</td>\n",
       "      <td>Single</td>\n",
       "      <td>...</td>\n",
       "      <td>less1</td>\n",
       "      <td>4~8</td>\n",
       "      <td>4~8</td>\n",
       "      <td>less1</td>\n",
       "      <td>1</td>\n",
       "      <td>0</td>\n",
       "      <td>0</td>\n",
       "      <td>0</td>\n",
       "      <td>1</td>\n",
       "      <td>0</td>\n",
       "    </tr>\n",
       "  </tbody>\n",
       "</table>\n",
       "<p>5 rows × 26 columns</p>\n",
       "</div>"
      ],
      "text/plain": [
       "        destination  passanger weather  temperature  time        coupon  \\\n",
       "23  No Urgent Place  Friend(s)   Sunny           80  10AM  Coffee House   \n",
       "26  No Urgent Place  Friend(s)   Sunny           80   2PM  Coffee House   \n",
       "27  No Urgent Place  Friend(s)   Sunny           80   2PM  Coffee House   \n",
       "28  No Urgent Place  Friend(s)   Sunny           80   2PM  Coffee House   \n",
       "30  No Urgent Place  Friend(s)   Sunny           80   6PM  Coffee House   \n",
       "\n",
       "   expiration gender age maritalStatus  ...  CoffeeHouse CarryAway  \\\n",
       "23         2h   Male  21        Single  ...        less1       4~8   \n",
       "26         1d   Male  21        Single  ...        less1       4~8   \n",
       "27         2h   Male  21        Single  ...        less1       4~8   \n",
       "28         1d   Male  21        Single  ...        less1       4~8   \n",
       "30         2h   Male  21        Single  ...        less1       4~8   \n",
       "\n",
       "   RestaurantLessThan20 Restaurant20To50 toCoupon_GEQ5min toCoupon_GEQ15min  \\\n",
       "23                  4~8            less1                1                 0   \n",
       "26                  4~8            less1                1                 0   \n",
       "27                  4~8            less1                1                 1   \n",
       "28                  4~8            less1                1                 1   \n",
       "30                  4~8            less1                1                 0   \n",
       "\n",
       "   toCoupon_GEQ25min direction_same direction_opp coupon_accepted  \n",
       "23                 0              0             1               0  \n",
       "26                 0              0             1               0  \n",
       "27                 0              0             1               0  \n",
       "28                 0              0             1               0  \n",
       "30                 0              0             1               0  \n",
       "\n",
       "[5 rows x 26 columns]"
      ]
     },
     "execution_count": 25,
     "metadata": {},
     "output_type": "execute_result"
    }
   ],
   "source": [
    "## extract Coffee House couponts data\n",
    "coffeehouse_coupons = data.query(\"coupon == 'Coffee House'\")\n",
    "coffeehouse_coupons.head()  "
   ]
  },
  {
   "cell_type": "code",
   "execution_count": 26,
   "metadata": {},
   "outputs": [
    {
     "data": {
      "image/png": "[encoded data removed]",
      "text/plain": [
       "<Figure size 640x480 with 1 Axes>"
      ]
     },
     "metadata": {},
     "output_type": "display_data"
    }
   ],
   "source": [
    "## Plotted Histogram using seaborn, visualization of Coffee House coupon acceptance distribution by marital status\n",
    "# Custom hue labels\n",
    "custom_labels = {\"1\": \"Accepted\", \"0\": \"Not Accepted\"}\n",
    "hue_labels = coffeehouse_coupons['coupon_accepted'].astype(str).map(custom_labels)\n",
    "\n",
    "# Count occurrences of each marital status grouped by coupon acceptance\n",
    "counts = coffeehouse_coupons.groupby(['maritalStatus', hue_labels]).size().unstack()\n",
    "\n",
    "# Plot the bar plot\n",
    "counts.plot(kind='bar', stacked= False)\n",
    "\n",
    "plt.title('Coffee House Coupon Acceptance distribution by Marital Status')\n",
    "plt.xlabel('Marital Status')\n",
    "plt.ylabel('Count')\n",
    "plt.xticks(rotation=40)\n",
    "\n",
    "# Show the plot\n",
    "plt.legend(title='Coupon Accepted')\n",
    "plt.show()"
   ]
  },
  {
   "cell_type": "markdown",
   "metadata": {},
   "source": [
    "***Notes:*** \n",
    "Plotted Histogram using seaborn to visualise the Coffee House coupon acceptance distribution by marital status\n",
    "These acceptance rates provide insights into how different marital status categories may influence the likelihood of accepting coffee house coupons"
   ]
  },
  {
   "cell_type": "code",
   "execution_count": 27,
   "metadata": {},
   "outputs": [
    {
     "name": "stdout",
     "output_type": "stream",
     "text": [
      "Acceptance rate of coffee house coupons by passenger's marital status:        maritalStatus  coupon_accepted\n",
      "0           Divorced         0.517483\n",
      "1    Married partner         0.491132\n",
      "2             Single         0.514362\n",
      "3  Unmarried partner         0.470414\n",
      "4            Widowed         0.352941\n"
     ]
    }
   ],
   "source": [
    "\n",
    "# Calculate Coffee House coupon acceptance rate for each marital status category\n",
    "acceptance_rates_by_maritalstatus = coffeehouse_coupons.groupby('maritalStatus')['coupon_accepted'].mean().reset_index()\n",
    "print (\"Acceptance rate of coffee house coupons by passenger's marital status:\", acceptance_rates_by_maritalstatus)\n"
   ]
  },
  {
   "cell_type": "markdown",
   "metadata": {},
   "source": [
    "***Findings:*** \n",
    "These acceptance rates provide insights into how different marital status categories may influence the likelihood of accepting coffee                house coupons.\n",
    "Divorced individuals seem to have the highest acceptance rate, suggesting that they may be more receptive to coffee house offers.\r",
    "Married partners have a slightly lower acceptance rate, indicating that their preferences or behaviors regarding coffee house coupons might              differ from divorced individual. \r\n",
    "Single individuals also show a relatively high acceptance rate, comparable to divorced individuls.\n",
    "\r\n",
    "Unmarried partners have a lower acceptance rate compared to other categories, suggesting that their decision-making regarding coffee h  se coupons might be influenced by factors unique to their situia- n.\r\n",
    "Widowed individuals have the lowest acceptance rate, indicating that they may be less inclined to accept coffee house coupons compa    to other marital status categories.\r\n",
    "These findings can be valuable for businesses and marketers looking to target specific demographic groups with coffee house promotions and offers.\r\n"
   ]
  },
  {
   "cell_type": "code",
   "execution_count": 28,
   "metadata": {},
   "outputs": [
    {
     "name": "stdout",
     "output_type": "stream",
     "text": [
      "Acceptance rate of coffee house coupons by passenger's income:              income  coupon_accepted\n",
      "0   $100000 or More         0.489524\n",
      "1   $12500 - $24999         0.552212\n",
      "2   $25000 - $37499         0.465154\n",
      "3   $37500 - $49999         0.547406\n",
      "4   $50000 - $62499         0.498047\n",
      "5   $62500 - $74999         0.435424\n",
      "6   $75000 - $87499         0.298246\n",
      "7   $87500 - $99999         0.539419\n",
      "8  Less than $12500         0.540268\n"
     ]
    }
   ],
   "source": [
    "# Calculate Coffee House coupon acceptance rate by income range\n",
    "acceptance_rates_by_income = coffeehouse_coupons.groupby('income')['coupon_accepted'].mean().reset_index()\n",
    "print (\"Acceptance rate of coffee house coupons by passenger's income:\", acceptance_rates_by_income)"
   ]
  },
  {
   "cell_type": "markdown",
   "metadata": {},
   "source": [
    "**Findings:** \n",
    "The acceptance rates of coffee house coupons vary across different income categories, suggesting that passenger income levels influence                  the likelihood of accepting these coupons, Key findings includes:\n",
    "***Income Range Influence:*** \n",
    "There is a noticeable fluctuation in acceptance rates across income categories. For instance, the acceptance rate is highest for passengers              with incomes ranging from $12,500 to $24,999 (55.22%) and lowest for those earning between $75,000 and $87,499 (29.82%)\n",
    "***Middle Income Acceptance:*** \n",
    "Passengers with incomes between $25,000 and $49,999 generally demonstrate moderate to high acceptance rates, with rates ranging from 46.52% to           54.74%.This suggests that individuals in middle-income brackets are more receptive to coffee house coupons\n",
    "***Higher Income Consideration:*** \n",
    "Interestingly, acceptance rates for passengers earning $100,000 or more and those earning less than $12,500 are below 50%. \n",
    "This could indicate that higher-income passengers may have different preferences or behaviors regarding coffee house coupons compared to those           with lower incomes.\n",
    "Overall, understanding the relationship between passenger income and coupon acceptance rates can help businesses optimize their marketing efforts and effectively target their desired customer segments."
   ]
  },
  {
   "cell_type": "code",
   "execution_count": 29,
   "metadata": {},
   "outputs": [
    {
     "name": "stdout",
     "output_type": "stream",
     "text": [
      "['less1' '4~8' '1~3' 'gt8' 'never']\n",
      "Acceptance rate of coffee house coupons who go to coffee house more than 4 times and education level:                                 education  coupon_accepted\n",
      "0                       Associates degree         0.578947\n",
      "1                        Bachelors degree         0.688172\n",
      "2  Graduate degree (Masters or Doctorate)         0.632035\n",
      "3                    High School Graduate         0.611111\n",
      "4                        Some High School         0.333333\n",
      "5                Some college - no degree         0.725410\n"
     ]
    }
   ],
   "source": [
    "## Compare Acceptance rate of coffee house coupons by passenger education leve and who goes to a coffee house more that 4 times :\n",
    "\n",
    "## Identify unique values in the CoffeeHose attribute/column\n",
    "coffeehouse_unique = coffeehouse_coupons['CoffeeHouse'].unique()\n",
    "print (coffeehouse_unique)\n",
    "## creat lists to filter the data\n",
    "coffeehouse_morethan4_list = [\"4~8\", \"gt8\"]\n",
    "\n",
    "## Calculate Coffee House coupon acceptance rate by education level and who go to coffee house more than 4 times\n",
    "\n",
    "acceptance_rates_by_edu = coffeehouse_coupons.query('CoffeeHouse in @coffeehouse_morethan4_list').groupby('education')['coupon_accepted'].mean().reset_index()\n",
    "print (\"Acceptance rate of coffee house coupons who go to coffee house more than 4 times and education level:\"\n",
    "       , acceptance_rates_by_edu)\n",
    "\n",
    "\n"
   ]
  },
  {
   "cell_type": "markdown",
   "metadata": {},
   "source": [
    "***Findings:*** \n",
    "The acceptance rates of coffee house coupons among passengers who visit coffee houses more than 4 times per month vary significantly                     based on their education level. Here are the key findings:\n",
    "***Higher Education, Higher Acceptance:***\n",
    "Passengers with higher levels of education tend to have higher acceptance rates for coffee house coupons. For instance, individuals with                a Bachelors degree or higher (68.82%) and those with a Graduate degree (Masters or Doctorate) (63.20%) exhibit notably higher acceptance                 rates compared to those with lower levels of education\n",
    "***Associates Degree:*** \n",
    "While slightly lower than those with Bachelors or Graduate degrees, individuals with an Associates degree still demonstrate a relatively                high acceptance rate (57.89%).\n",
    "***High School Graduates and Some College:***\n",
    "High School Graduates and individuals with some college experience but no degree also show moderate acceptance rates (61.11% and 72.54%                  respectively),\n",
    "***Lowest Acceptance among Some High School:*** \n",
    "Interestingly, individuals with only some high school education exhibit the lowest acceptance rate (33.33%), indicating a potential                      correlation between higher education attainment and receptiveness to coffee house coupons.\n",
    "These findings suggest that higher levels of education may be associated with a greater propensity to accept coffee house coupons, possibly reflecting differences in spending habits, lifestyle preferences, or perceptions of value among different educational groups. Businesses can leverage these insights to tailor their marketing strategies and target specific educational demographics more effectively.\n"
   ]
  },
  {
   "cell_type": "markdown",
   "metadata": {},
   "source": [
    "***Conclusion**\r\n",
    "The analysis reveals that acceptance rates for coffee house coupons vary significantly based on demographic factors such as marital status, income, and education level. These findings provide valuable insights for businesses seeking to target specific customer segments with coffee house promotions.\r\n"
   ]
  }
 ],
 "metadata": {
  "kernelspec": {
   "display_name": "Python 3 (ipykernel)",
   "language": "python",
   "name": "python3"
  },
  "language_info": {
   "codemirror_mode": {
    "name": "ipython",
    "version": 3
   },
   "file_extension": ".py",
   "mimetype": "text/x-python",
   "name": "python",
   "nbconvert_exporter": "python",
   "pygments_lexer": "ipython3",
   "version": "3.11.8"
  },
  "widgets": {
   "application/vnd.jupyter.widget-state+json": {
    "state": {},
    "version_major": 2,
    "version_minor": 0
   }
  }
 },
 "nbformat": 4,
 "nbformat_minor": 4
}
